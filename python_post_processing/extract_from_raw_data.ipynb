{
 "cells": [
  {
   "cell_type": "markdown",
   "metadata": {},
   "source": [
    "This file shows how to extract grid data and velocity data from the raw MITgcm output files. You need MITgcm downloaded (specifically, MITgcmutils)"
   ]
  },
  {
   "cell_type": "code",
   "execution_count": 1,
   "metadata": {},
   "outputs": [],
   "source": [
    "import MITgcmutils\n",
    "import numpy as np\n",
    "import numpy.ma as ma\n",
    "\n",
    "from scipy.io import loadmat\n",
    "import glob"
   ]
  },
  {
   "cell_type": "code",
   "execution_count": null,
   "metadata": {},
   "outputs": [],
   "source": [
    "# get time data\n",
    "datt = MITgcmutils.mnc.mnc_files('../data/raw_data/outs_sn.*.nc')\n",
    "time = datt.variables['T'][:]\n",
    "datt.close()"
   ]
  },
  {
   "cell_type": "code",
   "execution_count": null,
   "metadata": {},
   "outputs": [],
   "source": [
    "# get basin geometry data from Matlab file\n",
    "basin_data = loadmat('../MITgcm_code/setup/basin_400km_400km.mat')\n",
    "x_basin0 = int(basin_data['x_basin0']) # grid cell of the left extent of the basin \n",
    "x_basin1 = int(basin_data['x_basin1']) # grid cell of the right extent of the basin\n",
    "y_inlet = int(basin_data['y_inlet']) # grid cell of the north extent of the basin"
   ]
  },
  {
   "cell_type": "code",
   "execution_count": null,
   "metadata": {},
   "outputs": [],
   "source": [
    "# get grid information\n",
    "gridm = MITgcmutils.mnc.mnc_files('../data/raw_data/grid*')\n",
    "hFacc = gridm.variables['HFacC'][:] # partial cell fill (cell-centered)\n",
    "hFacw = gridm.variables['HFacW'][:] # partial cell fill (west edge)\n",
    "hFacs = gridm.variables['HFacS'][:] # partial cell fill (south edge)\n",
    "z = gridm.variables['Z'][:] # array of z values\n",
    "depth = gridm.variables['Depth'][:] # 2D array of depth\n",
    "drf =gridm.variables['drF'][:] # vertical spacing\n",
    "x = gridm.variables['X'][:] # x grid cells\n",
    "y = gridm.variables['Y'][:] # y grid cells\n",
    "gridm.close()"
   ]
  },
  {
   "cell_type": "code",
   "execution_count": null,
   "metadata": {},
   "outputs": [],
   "source": [
    "# save grid and time information\n",
    "np.savez('grid_info.npz', time=time, x_basin0=x_basin0, x_basin1=x_basin1, y_inlet=y_inlet,\n",
    "        hFacc=hFacc, drf=drf, hFacw=hFacw, hFacs=hFacs, z=z, depth=depth, x=x, y=y)"
   ]
  },
  {
   "cell_type": "code",
   "execution_count": null,
   "metadata": {},
   "outputs": [],
   "source": [
    "# load and save velocity and temperature data for the entire domain at the last time step\n",
    "datt = MITgcmutils.mnc.mnc_files('../data/raw_data/outs_sn.*.nc')\n",
    "uvel = datt.variables['UVEL'][-1,:,:,:]\n",
    "vvel = datt.variables['VVEL'][-1,:,:,:]\n",
    "wvel = datt.variables['WVEL'][-1,:,:,:]\n",
    "theta = datt.variables['THETA'][-1,:,:,:]\n",
    "\n",
    "np.savez('last_time_step.npz', uvel=uvel, vvel=vvel, wvel=wvel, theta=theta)"
   ]
  },
  {
   "cell_type": "code",
   "execution_count": null,
   "metadata": {},
   "outputs": [],
   "source": [
    "# load and save velocity and temperature data for the basin over all time steps\n",
    "\n",
    "datt = MITgcmutils.mnc.mnc_files('../data/raw_data/outs_sn.*.nc')\n",
    "# each field indices are [time, z, y, x]\n",
    "uvel_basin = datt.variables['UVEL'][:,:,0:y_inlet, x_basin0:x_basin1]\n",
    "vvel_basin = datt.variables['VVEL'][:,:,0:y_inlet, x_basin0:x_basin1]\n",
    "wvel_basin = datt.variables['WVEL'][:,:,0:y_inlet, x_basin0:x_basin1]\n",
    "theta_basin = datt.variables['THETA'][:,:,0:y_inlet, x_basin0:x_basin1]\n",
    "datt.close()\n",
    "\n",
    "np.savez('basin_data.npz', uvel_basin=uvel_basin, vvel_basin=vvel_basin, wvel_basin=wvel_basin,theta_basin=theta_basin)"
   ]
  }
 ],
 "metadata": {
  "kernelspec": {
   "display_name": "Python 3",
   "language": "python",
   "name": "python3"
  },
  "language_info": {
   "codemirror_mode": {
    "name": "ipython",
    "version": 3
   },
   "file_extension": ".py",
   "mimetype": "text/x-python",
   "name": "python",
   "nbconvert_exporter": "python",
   "pygments_lexer": "ipython3",
   "version": "3.8.5"
  }
 },
 "nbformat": 4,
 "nbformat_minor": 4
}
